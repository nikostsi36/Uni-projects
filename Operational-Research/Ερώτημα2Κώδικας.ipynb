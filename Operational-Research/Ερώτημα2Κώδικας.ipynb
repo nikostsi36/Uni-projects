{
 "cells": [
  {
   "cell_type": "markdown",
   "metadata": {},
   "source": [
    "Ερώτημα 2"
   ]
  },
  {
   "cell_type": "code",
   "execution_count": 8,
   "metadata": {},
   "outputs": [],
   "source": [
    "import pandas as pd\n",
    "\n",
    "from pyomo.environ import *\n",
    "from pyomo.gdp import *"
   ]
  },
  {
   "cell_type": "markdown",
   "metadata": {},
   "source": [
    "Δημιουργούμε ένα python dictionary \"tasks\" στον οποίο αποθηκεύουμε τις 8 διεργασίες που πρέπει να πραγματοποιήσουμε την διάρκεια της καθεμίας, αλλά και τις διεργασίες που πρέπει να προηγηθούν"
   ]
  },
  {
   "cell_type": "code",
   "execution_count": 9,
   "metadata": {},
   "outputs": [],
   "source": [
    "tasks = {\n",
    "    ('tap1','Blue')   : {'dur': 45, 'previous': None},\n",
    "    ('tap1','Yellow') : {'dur': 10, 'previous': ('tap1','Blue')},\n",
    "    ('tap2','Blue')   : {'dur': 20, 'previous': ('tap2','Green')},\n",
    "    ('tap2','Green')  : {'dur': 10, 'previous': None},\n",
    "    ('tap2','Yellow') : {'dur': 34, 'previous': ('tap2','Blue')},\n",
    "    ('tap3','Blue')   : {'dur': 12, 'previous': ('tap3','Yellow')},\n",
    "    ('tap3','Green')  : {'dur': 17, 'previous': ('tap3','Blue')},\n",
    "    ('tap3','Yellow') : {'dur': 28, 'previous': None},   \n",
    "}\n"
   ]
  },
  {
   "cell_type": "markdown",
   "metadata": {},
   "source": [
    "Ορίζουμε την συνάρτηση tapModel η οποία ουσιαστικά, παίνει ως όρισμα το tasks και το μετατρέπει στο μοντέλο μας"
   ]
  },
  {
   "cell_type": "code",
   "execution_count": 10,
   "metadata": {},
   "outputs": [
    {
     "data": {
      "text/plain": [
       "<pyomo.core.base.PyomoModel.ConcreteModel at 0x1589bc283b8>"
      ]
     },
     "execution_count": 10,
     "metadata": {},
     "output_type": "execute_result"
    }
   ],
   "source": [
    "def tapModel(tasks):\n",
    "    \n",
    "    #Δημιουργούμε το μοντέλο\n",
    "    model = ConcreteModel()\n",
    "\n",
    "    # Κάνουμε το tasks έναν διδιάστατο πίνακα, παίρνοντας τα στοιχεία από το tasks\n",
    "    model.tasks = Set(initialize = tasks.keys(), dimen=2)\n",
    "    \n",
    "    # Με την βοήθεια ενός της set βάζουμε τις εργασίες σε ένα python set\n",
    "    model.jobs = Set(initialize = list(set([j for (j,m) in model.tasks])))\n",
    "    \n",
    "    # Επίσης σε ένα python set βάζουμε και το σετ των μηχανημάτων\n",
    "    model.machines = Set(initialize = list(set([m for (j,m) in model.tasks])))\n",
    "    \n",
    "    # Παίρνοντας τα στοιχεία από το τασκ και φιλτράροντας τα, δημιουργούμε έναν τετραδιάστατο πίνακα με την σωστή σειρά,\n",
    "    # της κάθε εργασίας, κάθε ταπετσαρίας, σε κάθε μηχάνημα. Θα μας χρειαστούν για τους conjunctive περιορισμούς.\n",
    "    model.correctOrder = Set(initialize = model.tasks * model.tasks, dimen=4, \n",
    "        filter = lambda model, j, m, k, n: (k,n) == tasks[(j,m)]['previous'])\n",
    "    \n",
    "    # Δημιουργούμε έναν πίνακα λαμβάνοντας υπόψη την ταπετσαρία, την διεργασία και την μηχανή, που θα χρησιμοποιηθεί\n",
    "    # όταν θέτουμε τους disjunctive περιορισμούς\n",
    "    model.disjuncs = Set(initialize = model.jobs * model.jobs * model.machines, dimen=3,\n",
    "        filter = lambda model, j, k, m: j < k and (j,m) in model.tasks and (k,m) in model.tasks)\n",
    "    \n",
    "    # Φορτώνουμε την διάρκεια της κάθε εργασίας σαν παράμετρους.\n",
    "    model.dur = Param(model.tasks, initialize=lambda model, j, m: tasks[(j,m)]['dur'])\n",
    "\n",
    "    # Θέτουμε το Μ όσο το άθροισμα όλων των διαρκειων για να είναι αρκετά μεγάλο ώστε να μην επηρεάσει το αποτέλεσμα, \n",
    "    # αλλά όχι και υπερβολικά μεγάλο, ώστε να μπορούσε να δημιουργήσει κάποιο υπολογιστικό πρόβλημα.\n",
    "    # Το μεγάλο Μ χρησιμοποιείται και ως ανώτατο όριο για το finish time\n",
    "    M = sum([model.dur[j, m] for (j,m) in model.tasks])\n",
    "    \n",
    "    # Δημιουργούμε τα decision variables και τους βάζουμε ως άνω όριο το μεγάλο Μ για να αποφύγουμε υπολογιστικά προβλήματα.\n",
    "    model.totalTime = Var(bounds=(0, M))\n",
    "    model.start = Var(model.tasks, bounds=(0, M))\n",
    "    \n",
    "    # Θέτουμε τον στόχο του μοντέλου που είναι να ελαχιστοποιηθεί ο συνολικός χρόνος\n",
    "    model.objective = Objective(expr = model.totalTime, sense = minimize)\n",
    "\n",
    "    # Θέτουμε τους περιορισμούς που δηλώνουν ότι ο συνολικός χρόνος πρέπει να είναι μεγαλύτερος από τον χρόνο που τελειώνει \n",
    "    # η κάθε διεργασία\n",
    "    model.finish = Constraint(model.tasks, rule=lambda model, j, m:  \n",
    "        model.start[j,m] + model.dur[j,m] <= model.totalTime)\n",
    "    \n",
    "    # Θέτουμε τους conjunctive περιορισμούς μας, που έχουν να κάνουν δηλαδή με την σωστή προτεραιότητα για κάθε ταπετσαρία\n",
    "    # χρησιμοποιώντας τον φιλτραρισμένο τετραδιάστατο πίνακα που φτιάξαμε προηγουμένως\n",
    "    model.preceding = Constraint(model.correctOrder, rule=lambda model, j, m, k, n: \n",
    "        model.start[k,n] + model.dur[k,n] <= model.start[j,m])\n",
    "    \n",
    "    # Θέτουμε τους disjunctive περιορισμούς, δηλαδή ότι κάθε μηχανή μπορεί να διεκπεραιώσει μόνη μια εργασία την φορά.\n",
    "    model.disjunctions = Disjunction(model.disjuncs, rule=lambda model,j,k,m:\n",
    "        [model.start[j,m] + model.dur[j,m] <= model.start[k,m], \n",
    "         model.start[k,m] + model.dur[k,m] <= model.start[j,m]])\n",
    "    \n",
    "    #Για να χρησιμοποιήσουμε τον glpk solver πρέπει πρώτα να μετατρέψουμε το μοντέλο μας σε standard MILP/MINLP model.\n",
    "    TransformationFactory('gdp.bigm').apply_to(model)\n",
    "    return model\n",
    "\n",
    "tapModel(tasks)\n"
   ]
  },
  {
   "cell_type": "markdown",
   "metadata": {},
   "source": [
    "Ορίζουμε μια συνάρτηση που παίρνει σαν όρισμα το μοντέλο μας, και επιστρέφει για κάθε διεργασία, την ταπετσαρία, το μηχάνημα, τον χρόνο που ξεκίνησε, την διάρκεια και τον χρόνο που τελείωσε. Για την επίλυση χρησιμοποιούμε το glpk solver."
   ]
  },
  {
   "cell_type": "code",
   "execution_count": 12,
   "metadata": {},
   "outputs": [],
   "source": [
    "def tapSolve(model):\n",
    "    SolverFactory('glpk').solve(model)\n",
    "    results = [{'Job': j,\n",
    "                'Machine': m,\n",
    "                'Start': model.start[j, m](), \n",
    "                'Duration': model.dur[j,m], \n",
    "                'Finish': model.start[(j, m)]() + model.dur[j,m]}\n",
    "               for j,m in model.tasks]\n",
    "    return results"
   ]
  },
  {
   "cell_type": "markdown",
   "metadata": {},
   "source": [
    "Καλούμε την TapSolve για το μοντέλο μας και εκτυπώνουμε τα αποτελέσματα"
   ]
  },
  {
   "cell_type": "code",
   "execution_count": 13,
   "metadata": {},
   "outputs": [
    {
     "data": {
      "text/plain": [
       "[{'Job': 'tap1',\n",
       "  'Machine': 'Blue',\n",
       "  'Start': 42.0,\n",
       "  'Duration': 45,\n",
       "  'Finish': 87.0},\n",
       " {'Job': 'tap1',\n",
       "  'Machine': 'Yellow',\n",
       "  'Start': 87.0,\n",
       "  'Duration': 10,\n",
       "  'Finish': 97.0},\n",
       " {'Job': 'tap2',\n",
       "  'Machine': 'Blue',\n",
       "  'Start': 10.0,\n",
       "  'Duration': 20,\n",
       "  'Finish': 30.0},\n",
       " {'Job': 'tap2',\n",
       "  'Machine': 'Green',\n",
       "  'Start': 0.0,\n",
       "  'Duration': 10,\n",
       "  'Finish': 10.0},\n",
       " {'Job': 'tap2',\n",
       "  'Machine': 'Yellow',\n",
       "  'Start': 53.0,\n",
       "  'Duration': 34,\n",
       "  'Finish': 87.0},\n",
       " {'Job': 'tap3',\n",
       "  'Machine': 'Blue',\n",
       "  'Start': 30.0,\n",
       "  'Duration': 12,\n",
       "  'Finish': 42.0},\n",
       " {'Job': 'tap3',\n",
       "  'Machine': 'Green',\n",
       "  'Start': 42.0,\n",
       "  'Duration': 17,\n",
       "  'Finish': 59.0},\n",
       " {'Job': 'tap3',\n",
       "  'Machine': 'Yellow',\n",
       "  'Start': 0.0,\n",
       "  'Duration': 28,\n",
       "  'Finish': 28.0}]"
      ]
     },
     "execution_count": 13,
     "metadata": {},
     "output_type": "execute_result"
    }
   ],
   "source": [
    "results = tapSolve(tapModel(tasks))\n",
    "results"
   ]
  },
  {
   "cell_type": "markdown",
   "metadata": {},
   "source": [
    "Βάζουμε σε έναν πίνακα τα αποτελέσματα για να είναι πιο ευανάγνωστα"
   ]
  },
  {
   "cell_type": "code",
   "execution_count": 14,
   "metadata": {},
   "outputs": [
    {
     "name": "stdout",
     "output_type": "stream",
     "text": [
      "\n",
      "Schedule by Tapetsaria\n",
      "              Start  Duration  Finish\n",
      "Job  Machine                         \n",
      "tap1 Blue      42.0        45    87.0\n",
      "     Yellow    87.0        10    97.0\n",
      "tap2 Green      0.0        10    10.0\n",
      "     Blue      10.0        20    30.0\n",
      "     Yellow    53.0        34    87.0\n",
      "tap3 Yellow     0.0        28    28.0\n",
      "     Blue      30.0        12    42.0\n",
      "     Green     42.0        17    59.0\n"
     ]
    }
   ],
   "source": [
    "schedule = pd.DataFrame(results)\n",
    "\n",
    "print('\\nSchedule by Tapetsaria')\n",
    "print(schedule.sort_values(by=['Job','Start']).set_index(['Job', 'Machine']))\n"
   ]
  },
  {
   "cell_type": "markdown",
   "metadata": {},
   "source": [
    "Συνεπώς, ο μικρότερος δυνατός χρόνος είναι 97 λεπτά και αυτός προκύπτει άν:\n",
    "Ταπετσαρία 1: περιμένουμε μέχρι το 42' την βάλουμε στην μπλε μηχανή και με το που τελειώσει (87')  την βάλουμε κατευθείαν στην κίτρινη μηχανή.\n",
    "Ταπετσαρία 2: Μπαίνει κατευθείαν (0') στην πράσινη μηχανή, και αμέσως όταν τελειώσει (10') στην μπλε, όταν βγει από την μπλε (30') περιμένουμε μέχρι το 53' και την τοποθετούμε στην κίτρινη.\n",
    "Ταπετσαρία 3: Μπαίνει κατευθείαν (0') στην κίτρινη μηχανή, και όταν τελειώσει (28') περιμένουμε μέχρι το 30' για να την βάλουμε στην μπλε. Όταν βγει απο την μπλέ (42') μπαίνει κατευθείαν στην πράσινη."
   ]
  }
 ],
 "metadata": {
  "kernelspec": {
   "display_name": "Python 3",
   "language": "python",
   "name": "python3"
  },
  "language_info": {
   "codemirror_mode": {
    "name": "ipython",
    "version": 3
   },
   "file_extension": ".py",
   "mimetype": "text/x-python",
   "name": "python",
   "nbconvert_exporter": "python",
   "pygments_lexer": "ipython3",
   "version": "3.7.4"
  }
 },
 "nbformat": 4,
 "nbformat_minor": 2
}
