{
 "cells": [
  {
   "cell_type": "markdown",
   "metadata": {},
   "source": [
    "Ερώτημα 1"
   ]
  },
  {
   "cell_type": "markdown",
   "metadata": {},
   "source": [
    "Αρχικά καταλαβαίνουμε ότι το πρόβλημα μπορεί να επιλυθεί με την μέθοδο του περιπλανώμενου πωλητή, αφού στόχος είναι να περάσουμε από κάθε χρώμα μία μόνο φορά και να επιστρέψουμε στο αρχικό (αφού παράγεται εβδομαδιαία). Ο χρόνος που παίρνει η παραγωγή του κάθε χρώματος δεν έχει σημασία αφού με όποια σειρά και να πάρουμε τα χρώματα θα είναι σταθερός. Άρα έχουμε 40+35+45+32+50 = 202 λεπτά που διαρκεί η διαδικασία παραγωγή και μας ενδιαφέρει να ελαχιστοποιήσουμε τον χρόνο των μεταβάσεων."
   ]
  },
  {
   "cell_type": "markdown",
   "metadata": {},
   "source": [
    "Γίνονται import όλες οι βιβλιοθήκες που θα χρησιμοποιήθουν, και δημιουργείτε το μοντέλο μας."
   ]
  },
  {
   "cell_type": "code",
   "execution_count": 1,
   "metadata": {},
   "outputs": [
    {
     "name": "stdout",
     "output_type": "stream",
     "text": [
      "Set parameter Username\n",
      "Academic license - for non-commercial use only - expires 2022-07-25\n"
     ]
    }
   ],
   "source": [
    "import sys\n",
    "import math\n",
    "import random\n",
    "from itertools import combinations\n",
    "import gurobipy as gp\n",
    "from gurobipy import GRB\n",
    "from gurobipy import *\n",
    "model1 = Model(name = \"Ouranio Toxo\")"
   ]
  },
  {
   "cell_type": "markdown",
   "metadata": {},
   "source": [
    "Ο πίνακας φορτώνεται σε ένα data frame για να εκτυπωθεί και από εκεί αποθηκεύονται στο dist όλα τα ζευγάρια των χρόνων που χρείαζονται για παραγωγή j χρώματος όταν προηγούνταν i."
   ]
  },
  {
   "cell_type": "code",
   "execution_count": 2,
   "metadata": {},
   "outputs": [
    {
     "name": "stdout",
     "output_type": "stream",
     "text": [
      "    X1  X2  X3  X4  X5\n",
      "X1   0  11   7  13  11\n",
      "X2   5   0  13  15  15\n",
      "X3  13  15   0  23  11\n",
      "X4   9  13   5   0   3\n",
      "X5   3   7   7   7   0\n",
      "{(0, 1): 11, (0, 2): 7, (0, 3): 13, (0, 4): 11, (1, 0): 5, (1, 2): 13, (1, 3): 15, (1, 4): 15, (2, 0): 13, (2, 1): 15, (2, 3): 23, (2, 4): 11, (3, 0): 9, (3, 1): 13, (3, 2): 5, (3, 4): 3, (4, 0): 3, (4, 1): 7, (4, 2): 7, (4, 3): 7}\n"
     ]
    }
   ],
   "source": [
    "import pandas as pd\n",
    "data = [[0,11,7,13,11],[5,0,13,15,15],[13,15,0,23,11],[9,13,5,0,3],[3,7,7,7,0]]\n",
    "df = pd.DataFrame(data, columns=['X1','X2','X3','X4','X5'],index=['X1','X2','X3','X4','X5'])\n",
    "print (df)\n",
    "n=df.shape[0]\n",
    "dist = {(i,j) : df.iloc[i][j] for i in range(n) for j in range(n) if i != j}\n",
    "print(dist)"
   ]
  },
  {
   "cell_type": "markdown",
   "metadata": {},
   "source": [
    "Εισάγεται η binary μεταβλητή e η οποία για κάθε i,j = 1,2,3,4,5 (0,1,2,3,4 στον κώδικα γιατί η αρίθμηση ξεκινάει από το 0), παίρνει τιμή 1 ή 0, οπού το 1 σημαίνει ότι χρησιμοποιείται αυτή η μετάβαση από i σε j χρώμα, ενώ το 0 ότι δεν χρησιμοποιείται."
   ]
  },
  {
   "cell_type": "code",
   "execution_count": 3,
   "metadata": {},
   "outputs": [],
   "source": [
    "vars = model1.addVars(dist.keys(), obj=dist, vtype=GRB.BINARY, name='e')"
   ]
  },
  {
   "cell_type": "markdown",
   "metadata": {},
   "source": [
    "Εισάγονται οι περιορισμοί. \n",
    "1.Ο πρώτος βεβαιώνει πως το άθροισμα των e σε κάθε γραμμή θα είναι ίσο με 1, που σημαίνει ότι θα μεταβεί σε κάθε χρώμα, μόνο μία φορά.\n",
    "2.Ο δεύτερος βεβαιώνει πως το άθροισμα των e σε κάθε στήλη θα είναι ίσο με 1, που σημαίνει ότι θα μεταβεί από κάθε χρώμα, μόνο μία φορά.\n",
    "3.Ο τρίτος περιορισμός βεβεώνει ότι όταν i και j  είναι ίδια το e θα έχει πάντα τιμή 0, αφού δεν έχει νόημα να μεταβούμε από το χρώμα i στο ίδιο χρώμα."
   ]
  },
  {
   "cell_type": "code",
   "execution_count": 4,
   "metadata": {},
   "outputs": [
    {
     "data": {
      "text/plain": [
       "{0: <gurobi.Constr *Awaiting Model Update*>,\n",
       " 1: <gurobi.Constr *Awaiting Model Update*>,\n",
       " 2: <gurobi.Constr *Awaiting Model Update*>,\n",
       " 3: <gurobi.Constr *Awaiting Model Update*>,\n",
       " 4: <gurobi.Constr *Awaiting Model Update*>}"
      ]
     },
     "execution_count": 4,
     "metadata": {},
     "output_type": "execute_result"
    }
   ],
   "source": [
    "model1.addConstrs(vars.sum(i,'*') == 1 for i in range(n))\n",
    "model1.addConstrs(vars.sum('*',i) == 1 for i in range(n))\n",
    "model1.addConstrs(vars.sum(i,i) == 0 for i in range(n))"
   ]
  },
  {
   "cell_type": "markdown",
   "metadata": {},
   "source": [
    "Η συνάρτηση αυτή έχει παρθεί έτσι όπως είναι από το documention της Gurobi (https://www.gurobi.com/documentation/9.5/examples/tsp_py.html) με την μόνη διαφορά ότι στην 3η από το τέλος γραμμή έχει προστεθεί το \"+ model._vars[j,i]\" για να ληφθεί υπόψη η μη συμμετρικότητα του πίνακα. Όπως ήταν γραμμένο ο χρόνος από το i στο j θα ήταν ίδιος με τον χρόνο από το j στο i, κάτι το οποίο στην δική μας περίπτωση προφανώς δεν ίσχυε. Στόχος της συγκεκριμένης συνάρτησης είναι να διαβεβαιώσει ότι δεν θα βρεθεί κάποια διαδρομή που να επιστρέφει το αρχικό χρ΄ώμα χωρίς να έχει περάσει από όλα τα υπόλοιπα προηγουμένως. Αυτό υλοποιείται με την χρήση ενός lazy περιορισμού."
   ]
  },
  {
   "cell_type": "code",
   "execution_count": 5,
   "metadata": {},
   "outputs": [],
   "source": [
    "# Callback - use lazy constraints to eliminate sub-tours\n",
    "def subtourelim(model, where):\n",
    "    if where == GRB.Callback.MIPSOL:\n",
    "        vals = model.cbGetSolution(model._vars)\n",
    "        # find the shortest cycle in the selected edge list\n",
    "        tour = subtour(vals)\n",
    "        if len(tour) < n:\n",
    "            # add subtour elimination constr. for every pair of cities in tour\n",
    "           \n",
    "            model.cbLazy(quicksum(model._vars[i,j] + model._vars[j,i]\n",
    "                              for i,j in itertools.combinations(tour, 2))\n",
    "                     <= len(tour)-1)"
   ]
  },
  {
   "cell_type": "markdown",
   "metadata": {},
   "source": [
    "Για να επιτευχθεί το παραπάνω είναι απαραίτητη και αυτή η συνάρτηση από το documentation της Gurobi αφού χρησιμοποιείται μέσα στην subtourelim. Ουσιαστικά επιβάλει οι επιλεγμένες αν ακμές να είναι λιγότερες κατά 1 από τους επιλεγμένους κόμβους μέχρι η λίστα των κόμβων που δεν έχουμε επισκευθεί να μείνει άδεια."
   ]
  },
  {
   "cell_type": "code",
   "execution_count": 6,
   "metadata": {},
   "outputs": [],
   "source": [
    "def subtour(vals):\n",
    "    # make a list of edges selected in the solution\n",
    "    edges = gp.tuplelist((i, j) for i, j in vals.keys()\n",
    "                         if vals[i, j] > 0.5)\n",
    "    unvisited = list(range(n))\n",
    "    cycle = range(n+1)  # initial length has 1 more city\n",
    "    while unvisited:  # true if list is non-empty\n",
    "        thiscycle = []\n",
    "        neighbors = unvisited\n",
    "        while neighbors:\n",
    "            current = neighbors[0]\n",
    "            thiscycle.append(current)\n",
    "            unvisited.remove(current)\n",
    "            neighbors = [j for i, j in edges.select(current, '*')\n",
    "                         if j in unvisited]\n",
    "        if len(cycle) > len(thiscycle):\n",
    "            cycle = thiscycle\n",
    "    return cycle\n"
   ]
  },
  {
   "cell_type": "markdown",
   "metadata": {},
   "source": [
    "Όλα τα δεδομένα μας περνάνε στο μοντέλο και πραγματοποιείται η βελτιστοποίηση."
   ]
  },
  {
   "cell_type": "code",
   "execution_count": 7,
   "metadata": {},
   "outputs": [
    {
     "name": "stdout",
     "output_type": "stream",
     "text": [
      "Set parameter LazyConstraints to value 1\n",
      "Gurobi Optimizer version 9.5.1 build v9.5.1rc2 (win64)\n",
      "Thread count: 4 physical cores, 8 logical processors, using up to 8 threads\n",
      "Optimize a model with 15 rows, 20 columns and 40 nonzeros\n",
      "Model fingerprint: 0x1f1b5fd4\n",
      "Variable types: 0 continuous, 20 integer (20 binary)\n",
      "Coefficient statistics:\n",
      "  Matrix range     [1e+00, 1e+00]\n",
      "  Objective range  [3e+00, 2e+01]\n",
      "  Bounds range     [1e+00, 1e+00]\n",
      "  RHS range        [1e+00, 1e+00]\n",
      "Found heuristic solution: objective 43.0000000\n",
      "Presolve removed 5 rows and 0 columns\n",
      "Presolve time: 0.02s\n",
      "Presolved: 10 rows, 20 columns, 40 nonzeros\n",
      "Variable types: 0 continuous, 20 integer (20 binary)\n",
      "\n",
      "Root relaxation: objective 3.700000e+01, 9 iterations, 0.00 seconds (0.00 work units)\n",
      "\n",
      "    Nodes    |    Current Node    |     Objective Bounds      |     Work\n",
      " Expl Unexpl |  Obj  Depth IntInf | Incumbent    BestBd   Gap | It/Node Time\n",
      "\n",
      "*    0     0               0      41.0000000   41.00000  0.00%     -    0s\n",
      "\n",
      "Cutting planes:\n",
      "  Lazy constraints: 2\n",
      "\n",
      "Explored 1 nodes (13 simplex iterations) in 0.08 seconds (0.00 work units)\n",
      "Thread count was 8 (of 8 available processors)\n",
      "\n",
      "Solution count 2: 41 43 \n",
      "\n",
      "Optimal solution found (tolerance 1.00e-04)\n",
      "Best objective 4.100000000000e+01, best bound 4.100000000000e+01, gap 0.0000%\n",
      "\n",
      "User-callback calls 109, time in user-callback 0.01 sec\n",
      "\n",
      "Optimal tour: [0, 3, 2, 4, 1]\n",
      "Optimal time: 41\n",
      "\n"
     ]
    }
   ],
   "source": [
    "model1._vars = vars\n",
    "model1.Params.LazyConstraints = 1\n",
    "model1.optimize(subtourelim)\n",
    "\n",
    "\n",
    "vals = model1.getAttr('X', vars)\n",
    "tour = subtour(vals)\n",
    "\n",
    "assert len(tour) == n\n",
    "\n",
    "print('')\n",
    "print('Optimal tour: %s' % str(tour))\n",
    "print('Optimal time: %g' % model1.ObjVal)\n",
    "print('')"
   ]
  },
  {
   "cell_type": "markdown",
   "metadata": {},
   "source": [
    "Όπως φαίνεται από τα αποτελέσματα ο βέλτιστος χρόνος είναι 41 λεπτά. Προσθέτοντας τα 202 που παίρνει η παραγωγή τον χρωμάτων, έχουμε συνολικό ελάχιστο χρόνο 243 λεπτά. Η βέλτιστη διαδρομή είναι 1,4,3,5,2 (προσθέτουμε 1 επειδή η αρίθμηση ξεκινάει από το 0). Γίνεται όμως εύκολα κατανοητό, ότι αφού η παραγωγή είναι εβδομαδιαία και συνεχόμενη θα μπορούσαμε να κρατήσουμε την ίδια αλληλουχία, αλλάζοντας όμως το χρώμα εκκίνησης.\n",
    "Άρα σωστές απαντήσεις είναι:\n",
    "1-4-3-5-2\n",
    "4-3-5-2-1\n",
    "3-5-2-1-4\n",
    "5-2-1-4-3\n",
    "2-1-4-3-5"
   ]
  }
 ],
 "metadata": {
  "kernelspec": {
   "display_name": "Python 3",
   "language": "python",
   "name": "python3"
  },
  "language_info": {
   "codemirror_mode": {
    "name": "ipython",
    "version": 3
   },
   "file_extension": ".py",
   "mimetype": "text/x-python",
   "name": "python",
   "nbconvert_exporter": "python",
   "pygments_lexer": "ipython3",
   "version": "3.7.4"
  }
 },
 "nbformat": 4,
 "nbformat_minor": 2
}
